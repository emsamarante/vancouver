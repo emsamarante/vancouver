{
 "cells": [
  {
   "cell_type": "code",
   "execution_count": 1,
   "metadata": {},
   "outputs": [],
   "source": [
    "import os\n",
    "import pandas as pd"
   ]
  },
  {
   "cell_type": "code",
   "execution_count": 2,
   "metadata": {},
   "outputs": [
    {
     "data": {
      "text/plain": [
       "['unificando.ipynb', 'analise.ipynb', '.ipynb_checkpoints', 'leiame.txt']"
      ]
     },
     "execution_count": 2,
     "metadata": {},
     "output_type": "execute_result"
    }
   ],
   "source": [
    "os.listdir()"
   ]
  },
  {
   "cell_type": "code",
   "execution_count": 3,
   "metadata": {},
   "outputs": [
    {
     "data": {
      "text/plain": [
       "'/home/dss/Documentos/Vancouver/auxiliares'"
      ]
     },
     "execution_count": 3,
     "metadata": {},
     "output_type": "execute_result"
    }
   ],
   "source": [
    "os.getcwd()"
   ]
  },
  {
   "cell_type": "code",
   "execution_count": 4,
   "metadata": {},
   "outputs": [
    {
     "data": {
      "text/plain": [
       "'/home/dss/Documentos/Vancouver/auxiliares/data/individualizados'"
      ]
     },
     "execution_count": 4,
     "metadata": {},
     "output_type": "execute_result"
    }
   ],
   "source": [
    "path = os.path.join(os.getcwd(), 'data/individualizados')\n",
    "path"
   ]
  },
  {
   "cell_type": "code",
   "execution_count": 5,
   "metadata": {},
   "outputs": [
    {
     "ename": "FileNotFoundError",
     "evalue": "[Errno 2] No such file or directory: '/home/dss/Documentos/Vancouver/auxiliares/data/individualizados'",
     "output_type": "error",
     "traceback": [
      "\u001b[0;31m---------------------------------------------------------------------------\u001b[0m",
      "\u001b[0;31mFileNotFoundError\u001b[0m                         Traceback (most recent call last)",
      "Cell \u001b[0;32mIn[5], line 1\u001b[0m\n\u001b[0;32m----> 1\u001b[0m documentos \u001b[38;5;241m=\u001b[39m \u001b[43mos\u001b[49m\u001b[38;5;241;43m.\u001b[39;49m\u001b[43mlistdir\u001b[49m\u001b[43m(\u001b[49m\u001b[43mpath\u001b[49m\u001b[43m)\u001b[49m\n\u001b[1;32m      2\u001b[0m documentos\n",
      "\u001b[0;31mFileNotFoundError\u001b[0m: [Errno 2] No such file or directory: '/home/dss/Documentos/Vancouver/auxiliares/data/individualizados'"
     ]
    }
   ],
   "source": [
    "documentos = os.listdir(path)\n",
    "documentos"
   ]
  },
  {
   "cell_type": "code",
   "execution_count": 6,
   "metadata": {},
   "outputs": [
    {
     "ename": "NameError",
     "evalue": "name 'documentos' is not defined",
     "output_type": "error",
     "traceback": [
      "\u001b[0;31m---------------------------------------------------------------------------\u001b[0m",
      "\u001b[0;31mNameError\u001b[0m                                 Traceback (most recent call last)",
      "Cell \u001b[0;32mIn[6], line 1\u001b[0m\n\u001b[0;32m----> 1\u001b[0m docs \u001b[38;5;241m=\u001b[39m [doc \u001b[38;5;28;01mfor\u001b[39;00m doc \u001b[38;5;129;01min\u001b[39;00m \u001b[43mdocumentos\u001b[49m \u001b[38;5;28;01mif\u001b[39;00m \u001b[38;5;124m'\u001b[39m\u001b[38;5;124mcrime\u001b[39m\u001b[38;5;124m'\u001b[39m \u001b[38;5;129;01min\u001b[39;00m doc]\n\u001b[1;32m      2\u001b[0m docs\n",
      "\u001b[0;31mNameError\u001b[0m: name 'documentos' is not defined"
     ]
    }
   ],
   "source": [
    "docs = [doc for doc in documentos if 'crime' in doc]\n",
    "docs"
   ]
  },
  {
   "cell_type": "code",
   "execution_count": 10,
   "metadata": {},
   "outputs": [],
   "source": [
    "data = []\n",
    "for doc in docs:\n",
    "    data.append(pd.read_csv(path + '/' + doc))"
   ]
  },
  {
   "cell_type": "code",
   "execution_count": 21,
   "metadata": {},
   "outputs": [
    {
     "data": {
      "text/html": [
       "<div>\n",
       "<style scoped>\n",
       "    .dataframe tbody tr th:only-of-type {\n",
       "        vertical-align: middle;\n",
       "    }\n",
       "\n",
       "    .dataframe tbody tr th {\n",
       "        vertical-align: top;\n",
       "    }\n",
       "\n",
       "    .dataframe thead th {\n",
       "        text-align: right;\n",
       "    }\n",
       "</style>\n",
       "<table border=\"1\" class=\"dataframe\">\n",
       "  <thead>\n",
       "    <tr style=\"text-align: right;\">\n",
       "      <th></th>\n",
       "      <th>TYPE</th>\n",
       "      <th>YEAR</th>\n",
       "      <th>MONTH</th>\n",
       "      <th>DAY</th>\n",
       "      <th>HOUR</th>\n",
       "      <th>MINUTE</th>\n",
       "      <th>HUNDRED_BLOCK</th>\n",
       "      <th>NEIGHBOURHOOD</th>\n",
       "      <th>X</th>\n",
       "      <th>Y</th>\n",
       "    </tr>\n",
       "  </thead>\n",
       "  <tbody>\n",
       "    <tr>\n",
       "      <th>0</th>\n",
       "      <td>Other Theft</td>\n",
       "      <td>2014</td>\n",
       "      <td>2</td>\n",
       "      <td>9</td>\n",
       "      <td>0</td>\n",
       "      <td>45</td>\n",
       "      <td>10XX GRANVILLE ST</td>\n",
       "      <td>Central Business District</td>\n",
       "      <td>491046.4189</td>\n",
       "      <td>5.458496e+06</td>\n",
       "    </tr>\n",
       "    <tr>\n",
       "      <th>1</th>\n",
       "      <td>Other Theft</td>\n",
       "      <td>2014</td>\n",
       "      <td>2</td>\n",
       "      <td>19</td>\n",
       "      <td>23</td>\n",
       "      <td>59</td>\n",
       "      <td>10XX GRANVILLE ST</td>\n",
       "      <td>Central Business District</td>\n",
       "      <td>491046.4189</td>\n",
       "      <td>5.458496e+06</td>\n",
       "    </tr>\n",
       "    <tr>\n",
       "      <th>2</th>\n",
       "      <td>Other Theft</td>\n",
       "      <td>2014</td>\n",
       "      <td>2</td>\n",
       "      <td>22</td>\n",
       "      <td>1</td>\n",
       "      <td>0</td>\n",
       "      <td>10XX GRANVILLE ST</td>\n",
       "      <td>Central Business District</td>\n",
       "      <td>491046.4189</td>\n",
       "      <td>5.458496e+06</td>\n",
       "    </tr>\n",
       "    <tr>\n",
       "      <th>3</th>\n",
       "      <td>Other Theft</td>\n",
       "      <td>2014</td>\n",
       "      <td>3</td>\n",
       "      <td>22</td>\n",
       "      <td>0</td>\n",
       "      <td>43</td>\n",
       "      <td>10XX GRANVILLE ST</td>\n",
       "      <td>Central Business District</td>\n",
       "      <td>491046.4189</td>\n",
       "      <td>5.458496e+06</td>\n",
       "    </tr>\n",
       "    <tr>\n",
       "      <th>4</th>\n",
       "      <td>Other Theft</td>\n",
       "      <td>2014</td>\n",
       "      <td>6</td>\n",
       "      <td>8</td>\n",
       "      <td>1</td>\n",
       "      <td>0</td>\n",
       "      <td>10XX GRANVILLE ST</td>\n",
       "      <td>Central Business District</td>\n",
       "      <td>491046.4189</td>\n",
       "      <td>5.458496e+06</td>\n",
       "    </tr>\n",
       "  </tbody>\n",
       "</table>\n",
       "</div>"
      ],
      "text/plain": [
       "          TYPE  YEAR  MONTH  DAY  HOUR  MINUTE      HUNDRED_BLOCK  \\\n",
       "0  Other Theft  2014      2    9     0      45  10XX GRANVILLE ST   \n",
       "1  Other Theft  2014      2   19    23      59  10XX GRANVILLE ST   \n",
       "2  Other Theft  2014      2   22     1       0  10XX GRANVILLE ST   \n",
       "3  Other Theft  2014      3   22     0      43  10XX GRANVILLE ST   \n",
       "4  Other Theft  2014      6    8     1       0  10XX GRANVILLE ST   \n",
       "\n",
       "               NEIGHBOURHOOD            X             Y  \n",
       "0  Central Business District  491046.4189  5.458496e+06  \n",
       "1  Central Business District  491046.4189  5.458496e+06  \n",
       "2  Central Business District  491046.4189  5.458496e+06  \n",
       "3  Central Business District  491046.4189  5.458496e+06  \n",
       "4  Central Business District  491046.4189  5.458496e+06  "
      ]
     },
     "execution_count": 21,
     "metadata": {},
     "output_type": "execute_result"
    }
   ],
   "source": [
    "df = pd.concat(data, axis=0, ignore_index=True)\n",
    "df.head()"
   ]
  },
  {
   "cell_type": "code",
   "execution_count": 22,
   "metadata": {},
   "outputs": [
    {
     "data": {
      "text/html": [
       "<div>\n",
       "<style scoped>\n",
       "    .dataframe tbody tr th:only-of-type {\n",
       "        vertical-align: middle;\n",
       "    }\n",
       "\n",
       "    .dataframe tbody tr th {\n",
       "        vertical-align: top;\n",
       "    }\n",
       "\n",
       "    .dataframe thead th {\n",
       "        text-align: right;\n",
       "    }\n",
       "</style>\n",
       "<table border=\"1\" class=\"dataframe\">\n",
       "  <thead>\n",
       "    <tr style=\"text-align: right;\">\n",
       "      <th></th>\n",
       "      <th>TYPE</th>\n",
       "      <th>YEAR</th>\n",
       "      <th>MONTH</th>\n",
       "      <th>DAY</th>\n",
       "      <th>HOUR</th>\n",
       "      <th>MINUTE</th>\n",
       "      <th>HUNDRED_BLOCK</th>\n",
       "      <th>NEIGHBOURHOOD</th>\n",
       "      <th>X</th>\n",
       "      <th>Y</th>\n",
       "    </tr>\n",
       "  </thead>\n",
       "  <tbody>\n",
       "    <tr>\n",
       "      <th>0</th>\n",
       "      <td>Theft from Vehicle</td>\n",
       "      <td>2012</td>\n",
       "      <td>9</td>\n",
       "      <td>28</td>\n",
       "      <td>7</td>\n",
       "      <td>0</td>\n",
       "      <td>X NK_LOC ST</td>\n",
       "      <td>Strathcona</td>\n",
       "      <td>492757.4868</td>\n",
       "      <td>5.458792e+06</td>\n",
       "    </tr>\n",
       "    <tr>\n",
       "      <th>1</th>\n",
       "      <td>Break and Enter Commercial</td>\n",
       "      <td>2012</td>\n",
       "      <td>5</td>\n",
       "      <td>9</td>\n",
       "      <td>20</td>\n",
       "      <td>0</td>\n",
       "      <td>6XX ABBOTT ST</td>\n",
       "      <td>Central Business District</td>\n",
       "      <td>492167.2364</td>\n",
       "      <td>5.458548e+06</td>\n",
       "    </tr>\n",
       "    <tr>\n",
       "      <th>2</th>\n",
       "      <td>Break and Enter Commercial</td>\n",
       "      <td>2012</td>\n",
       "      <td>2</td>\n",
       "      <td>14</td>\n",
       "      <td>3</td>\n",
       "      <td>33</td>\n",
       "      <td>6XX ABBOTT ST</td>\n",
       "      <td>Central Business District</td>\n",
       "      <td>492167.1811</td>\n",
       "      <td>5.458542e+06</td>\n",
       "    </tr>\n",
       "    <tr>\n",
       "      <th>3</th>\n",
       "      <td>Break and Enter Commercial</td>\n",
       "      <td>2012</td>\n",
       "      <td>10</td>\n",
       "      <td>23</td>\n",
       "      <td>3</td>\n",
       "      <td>15</td>\n",
       "      <td>6XX ABBOTT ST</td>\n",
       "      <td>Central Business District</td>\n",
       "      <td>492166.4427</td>\n",
       "      <td>5.458455e+06</td>\n",
       "    </tr>\n",
       "    <tr>\n",
       "      <th>4</th>\n",
       "      <td>Break and Enter Commercial</td>\n",
       "      <td>2012</td>\n",
       "      <td>9</td>\n",
       "      <td>24</td>\n",
       "      <td>10</td>\n",
       "      <td>0</td>\n",
       "      <td>6XX ABBOTT ST</td>\n",
       "      <td>Central Business District</td>\n",
       "      <td>492166.4427</td>\n",
       "      <td>5.458455e+06</td>\n",
       "    </tr>\n",
       "  </tbody>\n",
       "</table>\n",
       "</div>"
      ],
      "text/plain": [
       "                         TYPE  YEAR  MONTH  DAY  HOUR  MINUTE  HUNDRED_BLOCK  \\\n",
       "0          Theft from Vehicle  2012      9   28     7       0    X NK_LOC ST   \n",
       "1  Break and Enter Commercial  2012      5    9    20       0  6XX ABBOTT ST   \n",
       "2  Break and Enter Commercial  2012      2   14     3      33  6XX ABBOTT ST   \n",
       "3  Break and Enter Commercial  2012     10   23     3      15  6XX ABBOTT ST   \n",
       "4  Break and Enter Commercial  2012      9   24    10       0  6XX ABBOTT ST   \n",
       "\n",
       "               NEIGHBOURHOOD            X             Y  \n",
       "0                 Strathcona  492757.4868  5.458792e+06  \n",
       "1  Central Business District  492167.2364  5.458548e+06  \n",
       "2  Central Business District  492167.1811  5.458542e+06  \n",
       "3  Central Business District  492166.4427  5.458455e+06  \n",
       "4  Central Business District  492166.4427  5.458455e+06  "
      ]
     },
     "execution_count": 22,
     "metadata": {},
     "output_type": "execute_result"
    }
   ],
   "source": [
    "df.sort_values(by=['YEAR'], inplace=True)\n",
    "df = df.reset_index()\n",
    "df.drop(['index'], axis = 1, inplace=True)\n",
    "df.head()"
   ]
  },
  {
   "cell_type": "code",
   "execution_count": 23,
   "metadata": {},
   "outputs": [
    {
     "data": {
      "text/html": [
       "<div>\n",
       "<style scoped>\n",
       "    .dataframe tbody tr th:only-of-type {\n",
       "        vertical-align: middle;\n",
       "    }\n",
       "\n",
       "    .dataframe tbody tr th {\n",
       "        vertical-align: top;\n",
       "    }\n",
       "\n",
       "    .dataframe thead th {\n",
       "        text-align: right;\n",
       "    }\n",
       "</style>\n",
       "<table border=\"1\" class=\"dataframe\">\n",
       "  <thead>\n",
       "    <tr style=\"text-align: right;\">\n",
       "      <th></th>\n",
       "      <th>TYPE</th>\n",
       "      <th>YEAR</th>\n",
       "      <th>MONTH</th>\n",
       "      <th>DAY</th>\n",
       "      <th>HOUR</th>\n",
       "      <th>MINUTE</th>\n",
       "      <th>HUNDRED_BLOCK</th>\n",
       "      <th>NEIGHBOURHOOD</th>\n",
       "      <th>X</th>\n",
       "      <th>Y</th>\n",
       "    </tr>\n",
       "  </thead>\n",
       "  <tbody>\n",
       "    <tr>\n",
       "      <th>434393</th>\n",
       "      <td>Break and Enter Commercial</td>\n",
       "      <td>2022</td>\n",
       "      <td>8</td>\n",
       "      <td>19</td>\n",
       "      <td>2</td>\n",
       "      <td>33</td>\n",
       "      <td>5XX W BROADWAY AVE</td>\n",
       "      <td>Fairview</td>\n",
       "      <td>491585.5546</td>\n",
       "      <td>5.456719e+06</td>\n",
       "    </tr>\n",
       "    <tr>\n",
       "      <th>434394</th>\n",
       "      <td>Break and Enter Commercial</td>\n",
       "      <td>2022</td>\n",
       "      <td>8</td>\n",
       "      <td>24</td>\n",
       "      <td>9</td>\n",
       "      <td>54</td>\n",
       "      <td>5XX W BROADWAY AVE</td>\n",
       "      <td>Fairview</td>\n",
       "      <td>491622.0170</td>\n",
       "      <td>5.456727e+06</td>\n",
       "    </tr>\n",
       "    <tr>\n",
       "      <th>434395</th>\n",
       "      <td>Break and Enter Commercial</td>\n",
       "      <td>2022</td>\n",
       "      <td>11</td>\n",
       "      <td>7</td>\n",
       "      <td>0</td>\n",
       "      <td>0</td>\n",
       "      <td>5XX W BROADWAY AVE</td>\n",
       "      <td>Fairview</td>\n",
       "      <td>491622.0170</td>\n",
       "      <td>5.456727e+06</td>\n",
       "    </tr>\n",
       "    <tr>\n",
       "      <th>434396</th>\n",
       "      <td>Break and Enter Commercial</td>\n",
       "      <td>2022</td>\n",
       "      <td>4</td>\n",
       "      <td>14</td>\n",
       "      <td>7</td>\n",
       "      <td>24</td>\n",
       "      <td>5XX W 28TH AVE</td>\n",
       "      <td>South Cambie</td>\n",
       "      <td>491533.1895</td>\n",
       "      <td>5.454819e+06</td>\n",
       "    </tr>\n",
       "    <tr>\n",
       "      <th>434397</th>\n",
       "      <td>Mischief</td>\n",
       "      <td>2022</td>\n",
       "      <td>1</td>\n",
       "      <td>12</td>\n",
       "      <td>15</td>\n",
       "      <td>30</td>\n",
       "      <td>13XX ALBERNI ST</td>\n",
       "      <td>West End</td>\n",
       "      <td>490667.2323</td>\n",
       "      <td>5.459516e+06</td>\n",
       "    </tr>\n",
       "  </tbody>\n",
       "</table>\n",
       "</div>"
      ],
      "text/plain": [
       "                              TYPE  YEAR  MONTH  DAY  HOUR  MINUTE  \\\n",
       "434393  Break and Enter Commercial  2022      8   19     2      33   \n",
       "434394  Break and Enter Commercial  2022      8   24     9      54   \n",
       "434395  Break and Enter Commercial  2022     11    7     0       0   \n",
       "434396  Break and Enter Commercial  2022      4   14     7      24   \n",
       "434397                    Mischief  2022      1   12    15      30   \n",
       "\n",
       "             HUNDRED_BLOCK NEIGHBOURHOOD            X             Y  \n",
       "434393  5XX W BROADWAY AVE      Fairview  491585.5546  5.456719e+06  \n",
       "434394  5XX W BROADWAY AVE      Fairview  491622.0170  5.456727e+06  \n",
       "434395  5XX W BROADWAY AVE      Fairview  491622.0170  5.456727e+06  \n",
       "434396      5XX W 28TH AVE  South Cambie  491533.1895  5.454819e+06  \n",
       "434397     13XX ALBERNI ST      West End  490667.2323  5.459516e+06  "
      ]
     },
     "execution_count": 23,
     "metadata": {},
     "output_type": "execute_result"
    }
   ],
   "source": [
    "df.tail()"
   ]
  },
  {
   "cell_type": "code",
   "execution_count": null,
   "metadata": {},
   "outputs": [],
   "source": [
    "datetime_series = pd.to_datetime(df[['YEAR', 'MONTH', 'DAY', 'HOUR', 'MINUTE']].rename(columns={'YEAR': 'YEAR', 'MONTH': 'MONTH', 'DAY': 'DAY', 'HOUR': 'HOUR', 'MINUTE':'MINUTE'}))\n",
    "df['datetime'] = datetime_series\n",
    "df.drop(['YEAR', 'MONTH', 'DAY', 'HOUR', 'MINUTE'], axis=1).info()"
   ]
  },
  {
   "cell_type": "code",
   "execution_count": 24,
   "metadata": {},
   "outputs": [],
   "source": [
    "destino =  os.path.join(os.getcwd(), 'data')\n",
    "df.to_csv(destino + '/dataset.csv')"
   ]
  }
 ],
 "metadata": {
  "kernelspec": {
   "display_name": "Python 3 (ipykernel)",
   "language": "python",
   "name": "python3"
  },
  "language_info": {
   "codemirror_mode": {
    "name": "ipython",
    "version": 3
   },
   "file_extension": ".py",
   "mimetype": "text/x-python",
   "name": "python",
   "nbconvert_exporter": "python",
   "pygments_lexer": "ipython3",
   "version": "3.8.10"
  }
 },
 "nbformat": 4,
 "nbformat_minor": 4
}
